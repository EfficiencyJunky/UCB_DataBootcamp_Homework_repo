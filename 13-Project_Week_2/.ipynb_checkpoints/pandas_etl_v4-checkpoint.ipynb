{
 "cells": [
  {
   "cell_type": "code",
   "execution_count": 1,
   "metadata": {},
   "outputs": [],
   "source": [
    "import pandas as pd\n",
    "import numpy as np\n",
    "from sqlalchemy import create_engine"
   ]
  },
  {
   "cell_type": "markdown",
   "metadata": {},
   "source": [
    "# NOTES ON THIS VERSION"
   ]
  },
  {
   "cell_type": "markdown",
   "metadata": {},
   "source": [
    "This version takes a Facebook, Pinterest, and Google ads CSV for the advertisers\n",
    "It then takes an iOS and Android AppsFlyer CSV for the Installs/down the funnel events\n",
    "\n",
    "The Facebook file has a column for \"campaign name\" which always has \"IOS\" or \"ANDROID\" in the title and \"Evergreen\" if it is one of the evergreen campaigns. This allows us to split up the performance by platform as well as by evergreen/non evergreen"
   ]
  },
  {
   "cell_type": "markdown",
   "metadata": {},
   "source": [
    "# ADVERTISER DATA PREPARATION"
   ]
  },
  {
   "cell_type": "markdown",
   "metadata": {},
   "source": [
    "### Global Variables"
   ]
  },
  {
   "cell_type": "code",
   "execution_count": 2,
   "metadata": {},
   "outputs": [],
   "source": [
    "folder_with_csvs = \"Resources\"\n",
    "folder_output_csvs = folder_with_csvs + \"/Output\"\n",
    "\n",
    "# FOR ALL REPORTS -- Just need to make sure the date part is set to yesterday\n",
    "most_recent_ltv_column_prefix = \"ltv_20190508\"\n",
    "\n",
    "# FOR AGGREGATE REPORT\n",
    "# start_date = \"2019-05-01\"\n",
    "first_date = \"2019-05-02\"\n",
    "last_date = \"2019-05-08\""
   ]
  },
  {
   "cell_type": "markdown",
   "metadata": {},
   "source": [
    "### Extract Advertiser CSVs into DataFrames"
   ]
  },
  {
   "cell_type": "code",
   "execution_count": null,
   "metadata": {},
   "outputs": [],
   "source": [
    "facebook_file = folder_with_csvs + \"/FACEBOOK.csv\"\n",
    "facebook_df = pd.read_csv(facebook_file)\n",
    "\n",
    "print(\"\\n\\nFacebook File Import:\")\n",
    "display(facebook_df.head())\n",
    "\n",
    "\n",
    "facebook_advertiser_string = \"Facebook Ads\"\n",
    "\n",
    "type_evergreen_string = \"Evergreen\"\n",
    "type_other_string = \"Other\""
   ]
  },
  {
   "cell_type": "code",
   "execution_count": null,
   "metadata": {},
   "outputs": [],
   "source": [
    "pinterest_file = folder_with_csvs + \"/PINTEREST.csv\"\n",
    "pinterest_df = pd.read_csv(pinterest_file)\n",
    "\n",
    "print(\"\\n\\nPinterest File Import:\")\n",
    "display(pinterest_df.tail())"
   ]
  },
  {
   "cell_type": "code",
   "execution_count": null,
   "metadata": {},
   "outputs": [],
   "source": [
    "google_file = folder_with_csvs + \"/GOOGLE.csv\"\n",
    "google_df = pd.read_csv(google_file, skiprows=2)\n",
    "\n",
    "print(\"\\n\\nGoogle File Import:\")\n",
    "display(google_df.head())"
   ]
  },
  {
   "cell_type": "code",
   "execution_count": null,
   "metadata": {},
   "outputs": [],
   "source": [
    "# asa_file = folder_with_csvs + \"/ASA.csv\"\n",
    "# asa_df = pd.read_csv(asa_file)\n",
    "# asa_df.head()\n",
    "asa_advertiser_string = \"Apple Search Ads\"\n",
    "\n",
    "type_basic_string = \"Basic\"\n",
    "type_advanced_string = \"Advanced\""
   ]
  },
  {
   "cell_type": "markdown",
   "metadata": {},
   "source": [
    "### Transform FACEBOOK DataFrame"
   ]
  },
  {
   "cell_type": "code",
   "execution_count": null,
   "metadata": {},
   "outputs": [],
   "source": [
    "# Create a filtered dataframe from specific columns\n",
    "facebook_cols = [\"Day\", \"Campaign Name\", \"Amount Spent (USD)\", \n",
    "                 \"Impressions\", \"Reach\", \"Link Clicks\", \"Unique Link Clicks\"]\n",
    "\n",
    "facebook_transformed = facebook_df[facebook_cols].copy()\n",
    "\n",
    "# Rename the column headers\n",
    "facebook_transformed = facebook_transformed.rename(columns={\"Day\": \"date\",\n",
    "                                                            \"Campaign Name\": \"campaign_name\",\n",
    "                                                            \"Amount Spent (USD)\": \"spend\",\n",
    "                                                            \"Impressions\": \"impressions\",                                                     \n",
    "                                                            \"Reach\": \"impressions_unique\",\n",
    "                                                            \"Link Clicks\": \"clicks\",\n",
    "                                                            \"Unique Link Clicks\": \"clicks_unique\"})\n",
    "\n",
    "\n",
    "# # names for devices in each platform\n",
    "# device_names_ios = [\"ipod\",\"iphone\",\"ipad\"]\n",
    "# device_names_android = [\"android_smartphone\",\"android_tablet\"]\n",
    "\n",
    "\n",
    "# # add column to identify which platform (IOS or ANDROID) was being delivered impressions\n",
    "# facebook_transformed[\"device_type\"] = \"other\"\n",
    "# facebook_transformed.loc[facebook_transformed[\"impression_device\"].isin(device_names_ios) ,[\"device_type\"]] = \"IOS\"\n",
    "# facebook_transformed.loc[facebook_transformed[\"impression_device\"].isin(device_names_android) ,[\"device_type\"]] = \"ANDROID\"\n",
    "\n",
    "\n",
    "facebook_transformed[\"device_type\"] = \"other\"\n",
    "facebook_transformed.loc[facebook_transformed['campaign_name'].str.contains('(?i)IOS'),\"device_type\"] = \"IOS\"\n",
    "facebook_transformed.loc[facebook_transformed['campaign_name'].str.contains('(?i)ANDROID'),\"device_type\"] = \"ANDROID\"\n",
    "\n",
    "facebook_transformed[\"advertiser\"] = facebook_advertiser_string\n",
    "\n",
    "facebook_transformed[\"campaign_type\"] = type_other_string\n",
    "facebook_transformed.loc[facebook_transformed['campaign_name'].str.contains('(?i)Evergreen'),\"campaign_type\"] = type_evergreen_string\n",
    "\n",
    "\n",
    "\n",
    "# facebook_spend_reach_by_device_type = facebook_transformed.groupby([\"date\",\"device_type\"]).sum()\n",
    "facebook_spend_reach_by_device_type = facebook_transformed.groupby([\"date\",\"device_type\", \"advertiser\", \"campaign_type\"],as_index=False).sum()\n",
    "\n",
    "facebook_spend_reach_by_device_type_final = facebook_spend_reach_by_device_type.loc[facebook_spend_reach_by_device_type[\"device_type\"] != \"other\", :]\n",
    "\n",
    "# display(facebook_spend_reach_by_device_type_final.head())\n",
    "\n",
    "\n",
    "\n",
    "# add the AppsFlyer advertiser name and Split out IOS and ANDROID into separate dataframes\n",
    "# facebook_spend_reach_by_device_type_final[\"advertiser\"] = facebook_non_eg_string\n",
    "\n",
    "facebook_spend_reach_clicks_ios = facebook_spend_reach_by_device_type_final.loc[facebook_spend_reach_by_device_type_final[\"device_type\"] == \"IOS\",:]\n",
    "facebook_spend_reach_clicks_android = facebook_spend_reach_by_device_type_final.loc[facebook_spend_reach_by_device_type_final[\"device_type\"] == \"ANDROID\",:]\n",
    "\n",
    "# pinterest_spend_reach_clicks_android = \n",
    "\n",
    "print(\"\\n\\nFacebook IOS Transformed:\")\n",
    "display(facebook_spend_reach_clicks_ios.tail())\n",
    "\n",
    "print(\"\\n\\nFacebook ANDROID Transformed:\")\n",
    "display(facebook_spend_reach_clicks_android.tail())\n",
    "\n",
    "\n"
   ]
  },
  {
   "cell_type": "markdown",
   "metadata": {},
   "source": [
    "### Transform PINTEREST DataFrame"
   ]
  },
  {
   "cell_type": "code",
   "execution_count": null,
   "metadata": {},
   "outputs": [],
   "source": [
    "pinterest_cols = [\"Campaign ID\", \"Campaign name\", \"Date\", \"Spend in account currency\", \n",
    "                  \"Impressions\", \"Impression Unique Users\", \"Clicks\", \"Click Unique Users\"]\n",
    "\n",
    "pinterest_transformed = pinterest_df[pinterest_cols].copy()\n",
    "\n",
    "# Rename the column headers\n",
    "pinterest_transformed = pinterest_transformed.rename(columns={\"Campaign ID\": \"campaign_id\",\n",
    "                                                         \"Campaign name\": \"campaign_name\",\n",
    "                                                         \"Date\": \"date\",\n",
    "                                                         \"Spend in account currency\": \"spend\",\n",
    "                                                         \"Impressions\": \"impressions\",\n",
    "                                                         \"Impression Unique Users\": \"impressions_unique\",\n",
    "                                                         \"Clicks\": \"clicks\",\n",
    "                                                         \"Click Unique Users\": \"clicks_unique\"})\n",
    "\n",
    "pinterest_transformed[\"device_type\"] = \"other\"\n",
    "pinterest_transformed.loc[pinterest_transformed['campaign_name'].str.contains('(?i)IOS'),\"device_type\"] = \"IOS\"\n",
    "pinterest_transformed.loc[pinterest_transformed['campaign_name'].str.contains('(?i)ANDROID'),\"device_type\"] = \"ANDROID\"\n",
    "\n",
    "\n",
    "pinterest_transformed[\"advertiser\"] = \"pinterest_int\"\n",
    "pinterest_transformed[\"campaign_type\"] = type_other_string\n",
    "\n",
    "\n",
    "pinterest_spend_reach_by_device_type = pinterest_transformed.groupby([\"date\",\"device_type\", \"advertiser\", \"campaign_type\"],as_index=False).sum()\n",
    "\n",
    "pinterest_spend_reach_by_device_type_final = pinterest_spend_reach_by_device_type.loc[pinterest_spend_reach_by_device_type[\"device_type\"] != \"other\", :]\n",
    "\n",
    "pinterest_spend_reach_by_device_type_final.head(10)\n",
    "\n",
    "\n",
    "\n",
    "# add the AppsFlyer advertiser name and \n",
    "# pinterest_spend_reach_by_device_type_final[\"advertiser\"] = \"pinterest_int\"\n",
    "# pinterest_spend_reach_by_device_type_final[\"campaign_type\"] = type_other_string\n",
    "\n",
    "\n",
    "# Split out IOS and ANDROID into separate dataframes\n",
    "pinterest_spend_reach_clicks_ios = pinterest_spend_reach_by_device_type_final.loc[pinterest_spend_reach_by_device_type_final[\"device_type\"] == \"IOS\",:]\n",
    "pinterest_spend_reach_clicks_android = pinterest_spend_reach_by_device_type_final.loc[pinterest_spend_reach_by_device_type_final[\"device_type\"] == \"ANDROID\",:]\n",
    "\n",
    "\n",
    "print(\"\\n\\nPinterest IOS Transformed:\")\n",
    "display(pinterest_spend_reach_clicks_ios.head())\n",
    "\n",
    "print(\"\\n\\nPinterest ANDROID Transformed:\")\n",
    "display(pinterest_spend_reach_clicks_android.tail())"
   ]
  },
  {
   "cell_type": "markdown",
   "metadata": {},
   "source": [
    "### Transform GOOGLE ADS DataFrame"
   ]
  },
  {
   "cell_type": "code",
   "execution_count": null,
   "metadata": {},
   "outputs": [],
   "source": [
    "# Create a filtered dataframe from specific columns\n",
    "google_cols = [\"Day\", \"Campaign\", \"Cost\", \n",
    "                 \"Impressions\", \"Views\", \"Clicks\"]\n",
    "\n",
    "google_transformed = google_df[google_cols].copy()\n",
    "\n",
    "# Rename the column headers\n",
    "google_transformed = google_transformed.rename(columns={\"Day\": \"date\",\n",
    "                                                            \"Campaign\": \"campaign_name\",\n",
    "                                                            \"Cost\": \"spend\",\n",
    "                                                            \"Impressions\": \"impressions\",                                                     \n",
    "                                                            \"Views\": \"views\",\n",
    "                                                            \"Clicks\": \"clicks\"})\n",
    "\n",
    "# display(google_transformed[\"spend\"].dtypes)\n",
    "\n",
    "google_transformed[\"impressions\"] = google_transformed[\"impressions\"].str.replace(\",\",\"\").astype(int)\n",
    "google_transformed[\"views\"] = google_transformed[\"views\"].str.replace(\",\",\"\").astype(int)\n",
    "google_transformed[\"clicks\"] = google_transformed[\"clicks\"].str.replace(\",\",\"\").astype(int)\n",
    "\n",
    "# pd.to_numeric(s, errors='ignore')\n",
    "\n",
    "# pinterest_transformed[\"device_type\"] = \"other\"\n",
    "# pinterest_transformed.loc[pinterest_transformed['campaign_name'].str.contains('(?i)IOS'),\"device_type\"] = \"IOS\"\n",
    "# pinterest_transformed.loc[pinterest_transformed['campaign_name'].str.contains('(?i)ANDROID'),\"device_type\"] = \"ANDROID\"\n",
    "\n",
    "\n",
    "# add the Device Type, AppsFlyer advertiser name \n",
    "google_transformed[\"device_type\"] = \"IOS\"\n",
    "google_transformed[\"advertiser\"] = \"googleadwords_int\"\n",
    "google_transformed[\"campaign_type\"] = type_other_string\n",
    "\n",
    "\n",
    "google_spend_reach_by_device_type = google_transformed.groupby([\"date\",\"device_type\", \"advertiser\", \"campaign_type\"],as_index=False).sum()\n",
    "\n",
    "google_spend_reach_by_device_type_final = google_spend_reach_by_device_type.loc[google_spend_reach_by_device_type[\"device_type\"] != \"other\", :]\n",
    "\n",
    "# display(google_spend_reach_by_device_type_final.head())\n",
    "\n",
    "\n",
    "\n",
    "# Split out IOS and ANDROID into separate dataframes\n",
    "google_spend_reach_clicks_ios = google_spend_reach_by_device_type_final.loc[google_spend_reach_by_device_type_final[\"device_type\"] == \"IOS\",:]\n",
    "google_spend_reach_clicks_android = google_spend_reach_by_device_type_final.loc[google_spend_reach_by_device_type_final[\"device_type\"] == \"ANDROID\",:]\n",
    "\n",
    "\n",
    "\n",
    "\n",
    "print(\"\\n\\nGoogle Ads IOS Transformed:\")\n",
    "display(google_spend_reach_clicks_ios.head())\n",
    "\n",
    "print(\"\\n\\nGoogle Ads ANDROID Transformed:\")\n",
    "display(google_spend_reach_clicks_android.tail())\n",
    "\n",
    "\n"
   ]
  },
  {
   "cell_type": "code",
   "execution_count": null,
   "metadata": {},
   "outputs": [],
   "source": [
    "# google_transformed[\"impressions\"] = google_transformed[\"impressions\"].str.replace(\",\",\"\").astype(int)\n",
    "# google_transformed[\"views\"] = google_transformed[\"views\"].str.replace(\",\",\"\").astype(int)\n",
    "# google_transformed[\"clicks\"] = google_transformed[\"clicks\"].str.replace(\",\",\"\").astype(int)\n",
    "# # google_transformed[[\"impressions\", \"views\"]] = google_transformed[[\"impressions\", \"views\"]].apply(pd.to_numeric)\n",
    "\n",
    "\n",
    "# google_transformed.head()"
   ]
  },
  {
   "cell_type": "markdown",
   "metadata": {},
   "source": [
    "# APPSFLYER DATA PREPARATION"
   ]
  },
  {
   "cell_type": "markdown",
   "metadata": {},
   "source": [
    "### Extract APPSFLYER CSVs into DataFrames"
   ]
  },
  {
   "cell_type": "code",
   "execution_count": null,
   "metadata": {},
   "outputs": [],
   "source": [
    "appsflyer_ios_file = folder_with_csvs + \"/APPSFLYER-IOS.csv\"\n",
    "appsflyer_ios_df = pd.read_csv(appsflyer_ios_file)\n",
    "\n",
    "print(\"\\n\\nAppsFlyer iOS import:\")\n",
    "display(appsflyer_ios_df.head())"
   ]
  },
  {
   "cell_type": "code",
   "execution_count": null,
   "metadata": {},
   "outputs": [],
   "source": [
    "appsflyer_android_file = folder_with_csvs + \"/APPSFLYER-ANDROID.csv\"\n",
    "appsflyer_android_df = pd.read_csv(appsflyer_android_file)\n",
    "\n",
    "print(\"\\n\\nAppsFlyer ANDROID import:\")\n",
    "display(appsflyer_android_df.head())"
   ]
  },
  {
   "cell_type": "markdown",
   "metadata": {},
   "source": [
    "### SETUP VARIABLES TO USE FOR APPSFLYER IOS/ANDROID DataFrame Transformations"
   ]
  },
  {
   "cell_type": "code",
   "execution_count": null,
   "metadata": {},
   "outputs": [],
   "source": [
    "# most_recent_ltv_column_prefix = \"ltv_20190504\"\n",
    "\n",
    "paid_acquisition_advertisers = [facebook_advertiser_string, \"pinterest_int\", \"googleadwords_int\", asa_advertiser_string, \"Organic\"]\n",
    "\n",
    "\n",
    "appsflyer_cols = [\"Date\", \"Media Source (pid)\", \"Campaign (c)\", \"Installs\", \"Sessions\", \n",
    "                      \"new_workout_saved (Unique users)\", \n",
    "                      \"af_purchase (Unique users)\",\n",
    "                      \"af_purchase (Event counter)\", \n",
    "                      \"af_start_trial (Unique users)\", \n",
    "                      \"af_start_trial (Event counter)\",\n",
    "                      most_recent_ltv_column_prefix + \" (Unique users)\",\n",
    "                      most_recent_ltv_column_prefix + \" (Event counter)\",\n",
    "                      most_recent_ltv_column_prefix + \" (Sales in USD)\"]"
   ]
  },
  {
   "cell_type": "markdown",
   "metadata": {},
   "source": [
    "### Transform APPSFLYER IOS DataFrame"
   ]
  },
  {
   "cell_type": "code",
   "execution_count": null,
   "metadata": {},
   "outputs": [],
   "source": [
    "appsflyer_ios_transformed = appsflyer_ios_df[appsflyer_cols].copy()\n",
    "\n",
    "# Rename the column headers\n",
    "appsflyer_ios_transformed = appsflyer_ios_transformed.rename(columns={\"Date\": \"date\",\n",
    "                                                         \"Media Source (pid)\": \"advertiser\",\n",
    "                                                         \"Campaign (c)\": \"campaign_name\",\n",
    "                                                         \"Installs\": \"installs\",\n",
    "                                                         \"Sessions\": \"sessions\",\n",
    "                                                         \"new_workout_saved (Unique users)\": \"new_workout_saved_unique\",\n",
    "                                                         \"af_purchase (Unique users)\": \"af_purchase_unique\",\n",
    "                                                         \"af_purchase (Event counter)\": \"af_purchase_all\",\n",
    "                                                         \"af_start_trial (Unique users)\": \"af_start_trial_unique\",\n",
    "                                                         \"af_start_trial (Event counter)\": \"af_start_trial_all\",\n",
    "                                                         most_recent_ltv_column_prefix + \" (Unique users)\": \"ltv_subs_unique\",\n",
    "                                                         most_recent_ltv_column_prefix + \" (Event counter)\": \"ltv_subs_all\",\n",
    "                                                         most_recent_ltv_column_prefix + \" (Sales in USD)\": \"ltv_subs_revenue\"})\n",
    "\n",
    "\n",
    "# facebook_advertiser_string = \"Facebook Ads\"\n",
    "# asa_advertiser_string = \"Apple Search Ads\"\n",
    "\n",
    "# type_evergreen_string = \"Evergreen\"\n",
    "# type_other_string = \"Other\n",
    "# type_basic_string = \"Basic\"\n",
    "# type_advanced_string = \"Advanced\"\n",
    "\n",
    "\n",
    "appsflyer_ios_transformed.insert(2, \"campaign_type\", type_other_string) \n",
    "\n",
    "\n",
    "# appsflyer_ios_transformed.loc[appsflyer_ios_transformed['advertiser'] == facebook_advertiser_string, \"campaign_type\"] = type_other_string\n",
    "\n",
    "appsflyer_ios_transformed.loc[(appsflyer_ios_transformed['advertiser'] == facebook_advertiser_string)\n",
    "                              &\n",
    "                              (appsflyer_ios_transformed['campaign_name'].str.contains('(?i)Evergreen')), \"campaign_type\"] = type_evergreen_string\n",
    "\n",
    "\n",
    "\n",
    "appsflyer_ios_transformed.loc[appsflyer_ios_transformed['advertiser'] == asa_advertiser_string, \"campaign_type\"] = type_advanced_string\n",
    "\n",
    "appsflyer_ios_transformed.loc[(appsflyer_ios_transformed['advertiser'] == asa_advertiser_string)\n",
    "                              &\n",
    "                              (appsflyer_ios_transformed['campaign_name'].str.contains('Moov Studio: Fitness Workouts')), \"campaign_type\"] = type_basic_string\n",
    "\n",
    "\n",
    "\n",
    "appsflyer_ios_transformed.insert(11, \"trial_starts_unique\", appsflyer_ios_transformed[\"af_purchase_unique\"] + appsflyer_ios_transformed[\"af_start_trial_unique\"]) \n",
    "appsflyer_ios_transformed.insert(12, \"trial_starts_all\", appsflyer_ios_transformed[\"af_purchase_all\"] + appsflyer_ios_transformed[\"af_start_trial_all\"]) \n",
    "\n",
    "# appsflyer_ios_transformed[\"trial_starts_total_unique\"] = appsflyer_ios_transformed[\"af_purchase_unique\"] + appsflyer_ios_transformed[\"af_start_trial_unique\"]\n",
    "# appsflyer_ios_transformed[\"trial_starts_total_all\"] = appsflyer_ios_transformed[\"af_purchase_all\"] + appsflyer_ios_transformed[\"af_start_trial_all\"]\n",
    "\n",
    "appsflyer_ios_grouped = appsflyer_ios_transformed.groupby([\"date\",\"advertiser\", \"campaign_type\"],as_index=False).sum()\n",
    "\n",
    "appsflyer_ios_grouped_final = appsflyer_ios_grouped.loc[appsflyer_ios_grouped[\"advertiser\"].isin(paid_acquisition_advertisers), :]\n",
    "\n",
    "print(\"\\n\\nAppsFlyer IOS Transformed:\")\n",
    "appsflyer_ios_grouped_final.head()\n",
    "\n"
   ]
  },
  {
   "cell_type": "markdown",
   "metadata": {},
   "source": []
  },
  {
   "cell_type": "code",
   "execution_count": null,
   "metadata": {},
   "outputs": [],
   "source": [
    "# organic_spend_reach_clicks_ios = appsflyer_ios_grouped_final.loc[appsflyer_ios_grouped_final['advertiser'] == \"Organic\", [\"date\", \"advertiser\"]]\n",
    "# organic_spend_reach_clicks_ios[\"device_type\"] = \"IOS\"\n",
    "# organic_spend_reach_clicks_ios.head()"
   ]
  },
  {
   "cell_type": "markdown",
   "metadata": {},
   "source": [
    "### Transform APPSFLYER ANDROID DataFrame"
   ]
  },
  {
   "cell_type": "code",
   "execution_count": null,
   "metadata": {},
   "outputs": [],
   "source": [
    "appsflyer_android_transformed = appsflyer_android_df[appsflyer_cols].copy()\n",
    "\n",
    "# Rename the column headers\n",
    "appsflyer_android_transformed = appsflyer_android_transformed.rename(columns={\"Date\": \"date\",\n",
    "                                                         \"Media Source (pid)\": \"advertiser\",\n",
    "                                                         \"Campaign (c)\": \"campaign_name\",\n",
    "                                                         \"Installs\": \"installs\",\n",
    "                                                         \"Sessions\": \"sessions\",\n",
    "                                                         \"new_workout_saved (Unique users)\": \"new_workout_saved_unique\",\n",
    "                                                         \"af_purchase (Unique users)\": \"af_purchase_unique\",\n",
    "                                                         \"af_purchase (Event counter)\": \"af_purchase_all\",\n",
    "                                                         \"af_start_trial (Unique users)\": \"af_start_trial_unique\",\n",
    "                                                         \"af_start_trial (Event counter)\": \"af_start_trial_all\",\n",
    "                                                         most_recent_ltv_column_prefix + \" (Unique users)\": \"ltv_subs_unique\",\n",
    "                                                         most_recent_ltv_column_prefix + \" (Event counter)\": \"ltv_subs_all\",\n",
    "                                                         most_recent_ltv_column_prefix + \" (Sales in USD)\": \"ltv_subs_revenue\"})\n",
    "\n",
    "# facebook_advertiser_string = \"Facebook Ads\"\n",
    "# asa_advertiser_string = \"Apple Search Ads\"\n",
    "\n",
    "# type_evergreen_string = \"Evergreen\"\n",
    "# type_other_string = \"Other\n",
    "# type_basic_string = \"Basic\"\n",
    "# type_advanced_string = \"Advanced\"\n",
    "\n",
    "appsflyer_android_transformed.insert(2, \"campaign_type\", type_other_string) \n",
    "\n",
    "\n",
    "appsflyer_android_transformed.loc[(appsflyer_android_transformed['advertiser'] == facebook_advertiser_string)\n",
    "                              &\n",
    "                              (appsflyer_android_transformed['campaign_name'].str.contains('(?i)Evergreen')), \"campaign_type\"] = type_evergreen_string\n",
    "\n",
    "\n",
    "# appsflyer_android_transformed.loc[appsflyer_android_transformed['campaign_name'].str.contains('(?i)Evergreen'),\"campaign_type\"] = facebook_eg_string\n",
    "\n",
    "appsflyer_android_transformed.insert(11, \"trial_starts_unique\", appsflyer_android_transformed[\"af_purchase_unique\"] + appsflyer_android_transformed[\"af_start_trial_unique\"]) \n",
    "appsflyer_android_transformed.insert(12, \"trial_starts_all\", appsflyer_android_transformed[\"af_purchase_all\"] + appsflyer_android_transformed[\"af_start_trial_all\"]) \n",
    "\n",
    "# appsflyer_android_transformed[\"trial_starts_total_unique\"] = appsflyer_android_transformed[\"af_purchase_unique\"] + appsflyer_android_transformed[\"af_start_trial_unique\"]\n",
    "# appsflyer_android_transformed[\"trial_starts_total_all\"] = appsflyer_android_transformed[\"af_purchase_all\"] + appsflyer_android_transformed[\"af_start_trial_all\"]\n",
    "\n",
    "appsflyer_android_grouped = appsflyer_android_transformed.groupby([\"date\",\"advertiser\", \"campaign_type\"],as_index=False).sum()\n",
    "\n",
    "appsflyer_android_grouped_final = appsflyer_android_grouped.loc[appsflyer_android_grouped[\"advertiser\"].isin(paid_acquisition_advertisers), :]\n",
    "\n",
    "print(\"\\n\\nAppsFlyer ANDROID Transformed:\")\n",
    "appsflyer_android_grouped_final.head()\n",
    "\n"
   ]
  },
  {
   "cell_type": "markdown",
   "metadata": {},
   "source": [
    "### Create Placeholders for Organic, ASA (Basic and Advanced) DataFrame with Spend, Impressions, Clicks, etc."
   ]
  },
  {
   "cell_type": "code",
   "execution_count": null,
   "metadata": {},
   "outputs": [],
   "source": [
    "# facebook_advertiser_string = \"Facebook Ads\"\n",
    "# asa_advertiser_string = \"Apple Search Ads\"\n",
    "\n",
    "# type_evergreen_string = \"Evergreen\"\n",
    "# type_other_string = \"Other\n",
    "# type_basic_string = \"Basic\"\n",
    "# type_advanced_string = \"Advanced\"\n",
    "\n",
    "\n",
    "\n",
    "# ORGANIC IOS\n",
    "organic_spend_reach_clicks_ios = appsflyer_ios_grouped_final.loc[appsflyer_ios_grouped_final['advertiser'] == \"Organic\", [\"date\", \"advertiser\", \"campaign_type\"]]\n",
    "organic_spend_reach_clicks_ios[\"device_type\"] = \"IOS\"\n",
    "\n",
    "print(\"\\n\\nOrganic IOS Blank Starter DF:\")\n",
    "display(organic_spend_reach_clicks_ios.head())\n",
    "\n",
    "\n",
    "# APPLE SEARCH IOS\n",
    "asa_spend_reach_clicks_ios = appsflyer_ios_grouped_final.loc[appsflyer_ios_grouped_final['advertiser'] == asa_advertiser_string, [\"date\", \"advertiser\", \"campaign_type\"]]\n",
    "asa_spend_reach_clicks_ios[\"device_type\"] = \"IOS\"\n",
    "\n",
    "print(\"\\n\\nASA IOS Blank Starter DF:\")\n",
    "display(asa_spend_reach_clicks_ios.head())\n",
    "\n",
    "\n",
    "# # APPLE SEARCH BASIC IOS\n",
    "# asa_basic_spend_reach_clicks_ios = appsflyer_ios_grouped_final.loc[(appsflyer_ios_grouped_final['advertiser'] == asa_advertiser_string)\n",
    "#                                                                    &\n",
    "#                                                                    (appsflyer_ios_grouped_final['campaign_type'] == type_basic_string), [\"date\", \"advertiser\", \"campaign_type\"]]\n",
    "# asa_basic_spend_reach_clicks_ios[\"device_type\"] = \"IOS\"\n",
    "# display(asa_basic_spend_reach_clicks_ios.head())\n",
    "\n",
    "# # APPLE SEARCH ADVANCED IOS\n",
    "# asa_advanced_spend_reach_clicks_ios = appsflyer_ios_grouped_final.loc[(appsflyer_ios_grouped_final['advertiser'] == asa_advertiser_string)\n",
    "#                                                                       &\n",
    "#                                                                       (appsflyer_ios_grouped_final['campaign_type'] == type_advanced_string), [\"date\", \"advertiser\", \"campaign_type\"]]\n",
    "\n",
    "# asa_advanced_spend_reach_clicks_ios[\"device_type\"] = \"IOS\"\n",
    "# display(asa_advanced_spend_reach_clicks_ios.head())\n",
    "\n",
    "\n",
    "# ORGANIC ANDROID\n",
    "organic_spend_reach_clicks_android = appsflyer_android_grouped_final.loc[appsflyer_android_grouped_final['advertiser'] == \"Organic\", [\"date\", \"advertiser\", \"campaign_type\"]]\n",
    "organic_spend_reach_clicks_android[\"device_type\"] = \"ANDROID\"\n",
    "\n",
    "print(\"\\n\\nOrganic ANDROID Blank Starter DF:\")\n",
    "display(organic_spend_reach_clicks_android.head())\n",
    "\n",
    "\n",
    "\n",
    "# facebook_advertiser_string = \"Facebook Ads\"\n",
    "# asa_advertiser_string = \"Apple Search Ads\"\n",
    "\n",
    "# type_evergreen_string = \"Evergreen\"\n",
    "# type_other_string = \"Other\n",
    "# type_basic_string = \"Basic\"\n",
    "# type_advanced_string = \"Advanced\""
   ]
  },
  {
   "cell_type": "markdown",
   "metadata": {},
   "source": [
    "# COMBINE APPSFLYER AND ADVERTISER DATA TOGETHER"
   ]
  },
  {
   "cell_type": "markdown",
   "metadata": {},
   "source": [
    "### IOS Combination"
   ]
  },
  {
   "cell_type": "code",
   "execution_count": null,
   "metadata": {},
   "outputs": [],
   "source": [
    "# facebook_spend_reach_clicks_ios\n",
    "# pinterest_spend_reach_clicks_ios\n",
    "# google_spend_reach_clicks_ios\n",
    "# asa_spend_reach_clicks_ios\n",
    "# OR\n",
    "# asa_basic_spend_reach_clicks_ios\n",
    "# asa_advanced_spend_reach_clicks_ios\n",
    "# organic_spend_reach_clicks_ios\n",
    "# appsflyer_ios_grouped_final\n",
    "\n",
    "advertisers_spend_reach_clicks_ios = pd.concat([facebook_spend_reach_clicks_ios, \n",
    "                                                pinterest_spend_reach_clicks_ios, \n",
    "                                                google_spend_reach_clicks_ios,\n",
    "                                                asa_spend_reach_clicks_ios,\n",
    "#                                                 asa_basic_spend_reach_clicks_ios, \n",
    "#                                                 asa_advanced_spend_reach_clicks_ios, \n",
    "                                                organic_spend_reach_clicks_ios      ], \n",
    "                                               ignore_index=True, sort=False).sort_values(by=['date'])\n",
    "\n",
    "merge_table_ios = pd.merge(advertisers_spend_reach_clicks_ios, appsflyer_ios_grouped_final, on=[\"date\",\"advertiser\", \"campaign_type\"], how=\"left\")\n",
    "\n",
    "print(\"\\n\\nCombined IOS DATA (Advertisers + AppsFlyer):\")\n",
    "display(merge_table_ios.head())\n",
    "\n",
    "# Save to CSV\n",
    "merge_table_ios.to_csv(folder_output_csvs + \"/merged_IOS_data.csv\", index=False, header=True)\n",
    "\n",
    "\n"
   ]
  },
  {
   "cell_type": "markdown",
   "metadata": {},
   "source": [
    "### ANDROID Combination"
   ]
  },
  {
   "cell_type": "code",
   "execution_count": null,
   "metadata": {},
   "outputs": [],
   "source": [
    "facebook_spend_reach_clicks_android.head()\n",
    "pinterest_spend_reach_clicks_android.head()\n",
    "appsflyer_android_grouped_final.head()\n",
    "\n",
    "\n",
    "advertisers_spend_reach_clicks_android = pd.concat([facebook_spend_reach_clicks_android, pinterest_spend_reach_clicks_android, organic_spend_reach_clicks_android], ignore_index=True, sort=False).sort_values(by=['date'])\n",
    "\n",
    "merge_table_android = pd.merge(advertisers_spend_reach_clicks_android, appsflyer_android_grouped_final, on=[\"date\",\"advertiser\", \"campaign_type\"], how=\"left\")\n",
    "\n",
    "merge_table_android.insert(9, \"views\", np.nan)\n",
    "\n",
    "print(\"\\n\\nCombined ANDROID DATA (Advertisers + AppsFlyer):\")\n",
    "display(merge_table_android.head())\n",
    "\n",
    "# Save to CSV\n",
    "merge_table_android.to_csv(folder_output_csvs + \"/merged_ANDROID_data.csv\", index=False, header=True)\n",
    "\n"
   ]
  },
  {
   "cell_type": "code",
   "execution_count": null,
   "metadata": {},
   "outputs": [],
   "source": []
  },
  {
   "cell_type": "code",
   "execution_count": null,
   "metadata": {},
   "outputs": [],
   "source": []
  },
  {
   "cell_type": "markdown",
   "metadata": {},
   "source": [
    "# CREATE AARRR DASHBOARD showing AGGREGATE DATA OVER DATE RANGE"
   ]
  },
  {
   "cell_type": "code",
   "execution_count": null,
   "metadata": {},
   "outputs": [],
   "source": [
    "### Date Range\n",
    "# first_date = \"2019-05-02\"\n",
    "# last_date = \"2019-05-08\"\n",
    "\n",
    "trial_starts_column_to_use = \"trial_starts_unique\"\n",
    "# trial_starts_column_to_use = \"trial_starts_all\"\n",
    "\n",
    "columns_to_keep = [\"date\", \"device_type\", \"advertiser\", \"campaign_type\", \"spend\", \"installs\", trial_starts_column_to_use]\n"
   ]
  },
  {
   "cell_type": "markdown",
   "metadata": {},
   "source": [
    "### IOS Aggregate Data\n",
    "#### D0 and W0"
   ]
  },
  {
   "cell_type": "code",
   "execution_count": null,
   "metadata": {},
   "outputs": [],
   "source": [
    "# D0 stats\n",
    "ios_aarrr_d0 = merge_table_ios.loc[(merge_table_ios[\"date\"] >= last_date) \n",
    "                                        & \n",
    "                                        (merge_table_ios[\"date\"] <= last_date), columns_to_keep]\\\n",
    "                                        .groupby([\"advertiser\", \"campaign_type\"],as_index=False).sum()\n",
    "\n",
    "ios_aarrr_d0.insert(4, \"cpi\", ios_aarrr_d0[\"spend\"] / ios_aarrr_d0[\"installs\"])\n",
    "ios_aarrr_d0[\"cpt\"] = ios_aarrr_d0[\"spend\"] / ios_aarrr_d0[trial_starts_column_to_use]\n",
    "\n",
    "print(\"iOS D0 Stats:\")\n",
    "display(ios_aarrr_d0.head(10))\n",
    "\n",
    "ios_aarrr_d0.to_csv(folder_output_csvs + \"/ios_D0_aarrr_\" + last_date + \".csv\", index=False, header=True)\n",
    "\n",
    "\n",
    "# W0 stats\n",
    "ios_aarrr_w0 = merge_table_ios.loc[(merge_table_ios[\"date\"] >= first_date) \n",
    "                                        & \n",
    "                                        (merge_table_ios[\"date\"] <= last_date), columns_to_keep]\\\n",
    "                                        .groupby([\"advertiser\", \"campaign_type\"],as_index=False).sum()\n",
    "\n",
    "ios_aarrr_w0.insert(4, \"cpi\", ios_aarrr_w0[\"spend\"] / ios_aarrr_w0[\"installs\"])\n",
    "ios_aarrr_w0[\"cpt\"] = ios_aarrr_w0[\"spend\"] / ios_aarrr_w0[trial_starts_column_to_use]\n",
    "\n",
    "print(\"\\n\\niOS W0 Stats:\")\n",
    "display(ios_aarrr_w0.head(10))\n",
    "\n",
    "ios_aarrr_w0.to_csv(folder_output_csvs + \"/ios_W0_aarrr_\" + first_date + \"_to_\" + last_date + \".csv\", index=False, header=True)\n",
    "\n"
   ]
  },
  {
   "cell_type": "code",
   "execution_count": null,
   "metadata": {},
   "outputs": [],
   "source": [
    "# Need to make it so I don't have to change the date range to export a second CSV\n",
    "# need to add calculations for CPI and CPT"
   ]
  },
  {
   "cell_type": "markdown",
   "metadata": {},
   "source": [
    "### Android Aggregate Data"
   ]
  },
  {
   "cell_type": "code",
   "execution_count": null,
   "metadata": {},
   "outputs": [],
   "source": [
    "# D0 stats\n",
    "android_aarrr_d0 = merge_table_android.loc[(merge_table_android[\"date\"] >= last_date) \n",
    "                                        & \n",
    "                                        (merge_table_android[\"date\"] <= last_date), columns_to_keep]\\\n",
    "                                        .groupby([\"advertiser\", \"campaign_type\"],as_index=False).sum()\n",
    "\n",
    "android_aarrr_d0.insert(4, \"cpi\", android_aarrr_d0[\"spend\"] / android_aarrr_d0[\"installs\"])\n",
    "android_aarrr_d0[\"cpt\"] = android_aarrr_d0[\"spend\"] / android_aarrr_d0[trial_starts_column_to_use]\n",
    "\n",
    "\n",
    "print(\"Android D0 Stats:\")\n",
    "display(android_aarrr_d0.head(10))\n",
    "\n",
    "android_aarrr_d0.to_csv(folder_output_csvs + \"/android_D0_aarrr_\" + last_date + \".csv\", index=False, header=True)\n",
    "\n",
    "\n",
    "# W0 stats\n",
    "android_aarrr_w0 = merge_table_android.loc[(merge_table_android[\"date\"] >= first_date) \n",
    "                                        & \n",
    "                                        (merge_table_android[\"date\"] <= last_date), columns_to_keep]\\\n",
    "                                        .groupby([\"advertiser\", \"campaign_type\"],as_index=False).sum()\n",
    "\n",
    "\n",
    "android_aarrr_w0.insert(4, \"cpi\", android_aarrr_w0[\"spend\"] / android_aarrr_w0[\"installs\"])\n",
    "android_aarrr_w0[\"cpt\"] = android_aarrr_w0[\"spend\"] / android_aarrr_w0[trial_starts_column_to_use]\n",
    "\n",
    "\n",
    "print(\"\\n\\nAndroid W0 Stats:\")\n",
    "display(android_aarrr_w0.head(10))\n",
    "\n",
    "android_aarrr_w0.to_csv(folder_output_csvs + \"/android_W0_aarrr_\" + first_date + \"_to_\" + last_date + \".csv\", index=False, header=True)\n"
   ]
  },
  {
   "cell_type": "code",
   "execution_count": null,
   "metadata": {},
   "outputs": [],
   "source": []
  },
  {
   "cell_type": "code",
   "execution_count": null,
   "metadata": {},
   "outputs": [],
   "source": []
  },
  {
   "cell_type": "markdown",
   "metadata": {},
   "source": [
    "# DATABASE OPPERATIONS"
   ]
  },
  {
   "cell_type": "markdown",
   "metadata": {},
   "source": [
    "Advertiser DataFrames to put into Database\n",
    "\n",
    "* IOS Advertiser Info\n",
    "* Android Advertiser Info\n",
    "\n",
    "AppsFlyer DataFrames to put into Database\n",
    "* IOS AppsFlyer Info\n",
    "* Android AppsFlyer Info\n"
   ]
  },
  {
   "cell_type": "markdown",
   "metadata": {},
   "source": [
    "### Create database connection"
   ]
  },
  {
   "cell_type": "code",
   "execution_count": null,
   "metadata": {},
   "outputs": [],
   "source": [
    "connection_string = \"root:password123@localhost/customer_db\"\n",
    "engine = create_engine(f'mysql://{connection_string}')"
   ]
  },
  {
   "cell_type": "code",
   "execution_count": null,
   "metadata": {},
   "outputs": [],
   "source": [
    "# Confirm tables\n",
    "engine.table_names()"
   ]
  },
  {
   "cell_type": "markdown",
   "metadata": {},
   "source": [
    "### Load DataFrames into database"
   ]
  },
  {
   "cell_type": "code",
   "execution_count": null,
   "metadata": {},
   "outputs": [],
   "source": [
    "premise_transformed.to_sql(name='premise', con=engine, if_exists='append', index=True)"
   ]
  },
  {
   "cell_type": "code",
   "execution_count": null,
   "metadata": {},
   "outputs": [],
   "source": [
    "county_transformed.to_sql(name='county', con=engine, if_exists='append', index=True)"
   ]
  }
 ],
 "metadata": {
  "kernelspec": {
   "display_name": "Python 3",
   "language": "python",
   "name": "python3"
  },
  "language_info": {
   "codemirror_mode": {
    "name": "ipython",
    "version": 3
   },
   "file_extension": ".py",
   "mimetype": "text/x-python",
   "name": "python",
   "nbconvert_exporter": "python",
   "pygments_lexer": "ipython3",
   "version": "3.7.2"
  }
 },
 "nbformat": 4,
 "nbformat_minor": 2
}
