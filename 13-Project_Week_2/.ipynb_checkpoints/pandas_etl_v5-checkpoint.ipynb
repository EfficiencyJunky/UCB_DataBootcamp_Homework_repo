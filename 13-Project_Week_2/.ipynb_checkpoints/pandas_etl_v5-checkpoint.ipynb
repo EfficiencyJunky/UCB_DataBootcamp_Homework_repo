{
 "cells": [
  {
   "cell_type": "code",
   "execution_count": null,
   "metadata": {},
   "outputs": [],
   "source": [
    "import pandas as pd\n",
    "import numpy as np\n",
    "from sqlalchemy import create_engine"
   ]
  },
  {
   "cell_type": "markdown",
   "metadata": {},
   "source": [
    "# NOTES ON THIS VERSION"
   ]
  },
  {
   "cell_type": "markdown",
   "metadata": {},
   "source": [
    "This version takes a Facebook, Pinterest, and Google ads CSV for the advertisers\n",
    "It then takes an iOS and Android AppsFlyer CSV for the Installs/down the funnel events\n",
    "\n",
    "The Facebook, Pinterest, and Google data will have each \"campaign name\" for every date and each campaign has \"IOS\" or \"ANDROID\" in the title and \"Evergreen\" if it is one of the evergreen campaigns. This allows us to split up the performance by platform as well as by evergreen/non evergreen\n",
    "\n",
    "The ASA and Organic \"Spend/Impressions/Clicks\" don't exist, except for ASA Advanced which comes from the AppsFlyer IOS CSV. So we have to create placeholder DFs for Organic and ASA Basic so they can be combined with the AppsFlyer Data later"
   ]
  },
  {
   "cell_type": "markdown",
   "metadata": {},
   "source": [
    "# ADVERTISER DATA PREPARATION"
   ]
  },
  {
   "cell_type": "markdown",
   "metadata": {},
   "source": [
    "### Global Variables"
   ]
  },
  {
   "cell_type": "code",
   "execution_count": null,
   "metadata": {},
   "outputs": [],
   "source": [
    "folder_with_csvs = \"./DATA-SOURCES\"\n",
    "folder_output_csvs = \"./Output\"\n",
    "\n",
    "# FOR ALL REPORTS -- Just need to make sure the date part is set to yesterday\n",
    "most_recent_ltv_column_prefix = \"ltv_20190513\"\n",
    "\n",
    "# FOR AGGREGATE REPORT\n",
    "# start_date = \"2019-05-01\"\n",
    "first_date = \"2019-05-06\"\n",
    "last_date = \"2019-05-12\""
   ]
  },
  {
   "cell_type": "markdown",
   "metadata": {},
   "source": [
    "### Extract Advertiser CSVs into DataFrames"
   ]
  },
  {
   "cell_type": "code",
   "execution_count": null,
   "metadata": {},
   "outputs": [],
   "source": [
    "facebook_file = folder_with_csvs + \"/FACEBOOK.csv\"\n",
    "# facebook_df = pd.read_csv(facebook_file)\n",
    "\n",
    "# if the facebook CSV has a summary row, we want to skip the summary row \n",
    "# which is row index 1 (right after the header)\n",
    "facebook_df = pd.read_csv(facebook_file, skiprows=[1])\n",
    "\n",
    "print(\"\\n\\nFacebook File Import:\")\n",
    "display(facebook_df.head())\n",
    "\n",
    "\n",
    "facebook_advertiser_string = \"Facebook Ads\"\n",
    "\n",
    "type_evergreen_string = \"Evergreen\"\n",
    "type_other_string = \"Other\""
   ]
  },
  {
   "cell_type": "code",
   "execution_count": null,
   "metadata": {},
   "outputs": [],
   "source": [
    "# pinterest_old_file = \"../ARCHIVE_DATA/PINTEREST-old_conversions.csv\"\n",
    "# pinterest_old_df = pd.read_csv(pinterest_old_file)\n",
    "\n",
    "# print(\"\\n\\nPinterest OLD Conversions File Import:\")\n",
    "# display(pinterest_old_df.tail())\n",
    "\n",
    "\n",
    "pinterest_new_file = folder_with_csvs + \"/PINTEREST.csv\"\n",
    "pinterest_new_df = pd.read_csv(pinterest_new_file)\n",
    "\n",
    "print(\"\\n\\nPinterest File Import:\")\n",
    "display(pinterest_new_df.tail())\n"
   ]
  },
  {
   "cell_type": "code",
   "execution_count": null,
   "metadata": {},
   "outputs": [],
   "source": [
    "google_file = folder_with_csvs + \"/GOOGLE.csv\"\n",
    "\n",
    "# skip the first 2 rows\n",
    "google_df = pd.read_csv(google_file, skiprows=2)\n",
    "\n",
    "print(\"\\n\\nGoogle File Import:\")\n",
    "display(google_df.head())"
   ]
  },
  {
   "cell_type": "code",
   "execution_count": null,
   "metadata": {},
   "outputs": [],
   "source": [
    "# asa_file = folder_with_csvs + \"/ASA.csv\"\n",
    "# asa_df = pd.read_csv(asa_file)\n",
    "# asa_df.head()\n",
    "\n",
    "asa_advertiser_string = \"Apple Search Ads\"\n",
    "\n",
    "type_basic_string = \"Basic\"\n",
    "type_advanced_string = \"Advanced\""
   ]
  },
  {
   "cell_type": "markdown",
   "metadata": {},
   "source": [
    "## Transform FACEBOOK DataFrame"
   ]
  },
  {
   "cell_type": "code",
   "execution_count": null,
   "metadata": {},
   "outputs": [],
   "source": [
    "# Create a filtered dataframe from specific columns\n",
    "facebook_cols = [\"Day\", \"Campaign Name\", \"Amount Spent (USD)\", \n",
    "                 \"Impressions\", \"Reach\", \"Link Clicks\", \"Unique Link Clicks\"]\n",
    "\n",
    "facebook_transformed = facebook_df[facebook_cols].copy()\n",
    "\n",
    "# Rename the column headers\n",
    "facebook_transformed = facebook_transformed.rename(columns={\"Day\": \"date\",\n",
    "                                                            \"Campaign Name\": \"campaign_name\",\n",
    "                                                            \"Amount Spent (USD)\": \"spend\",\n",
    "                                                            \"Impressions\": \"impressions\",                                                     \n",
    "                                                            \"Reach\": \"impressions_unique\",\n",
    "                                                            \"Link Clicks\": \"clicks\",\n",
    "                                                            \"Unique Link Clicks\": \"clicks_unique\"})\n",
    "\n",
    "\n",
    "facebook_transformed[\"device_type\"] = \"other\"\n",
    "facebook_transformed.loc[facebook_transformed['campaign_name'].str.contains('(?i)IOS'),\"device_type\"] = \"IOS\"\n",
    "facebook_transformed.loc[facebook_transformed['campaign_name'].str.contains('(?i)ANDROID'),\"device_type\"] = \"ANDROID\"\n",
    "\n",
    "# add the AppsFlyer advertiser name\n",
    "facebook_transformed[\"advertiser\"] = facebook_advertiser_string\n",
    "\n",
    "facebook_transformed[\"campaign_type\"] = type_other_string\n",
    "facebook_transformed.loc[facebook_transformed['campaign_name'].str.contains('(?i)Evergreen'),\"campaign_type\"] = type_evergreen_string\n",
    "\n",
    "\n",
    "facebook_spend_reach_by_device_type = facebook_transformed.groupby([\"date\",\"device_type\", \"advertiser\", \"campaign_type\"],as_index=False).sum()\n",
    "\n",
    "facebook_spend_reach_by_device_type_final = facebook_spend_reach_by_device_type.loc[facebook_spend_reach_by_device_type[\"device_type\"] != \"other\", :]\n",
    "\n",
    "# display(facebook_spend_reach_by_device_type_final.head())\n",
    "\n",
    "# Split out IOS and ANDROID into separate dataframes\n",
    "facebook_spend_reach_clicks_ios = facebook_spend_reach_by_device_type_final.loc[facebook_spend_reach_by_device_type_final[\"device_type\"] == \"IOS\",:]\n",
    "facebook_spend_reach_clicks_android = facebook_spend_reach_by_device_type_final.loc[facebook_spend_reach_by_device_type_final[\"device_type\"] == \"ANDROID\",:]\n",
    "\n",
    "# pinterest_spend_reach_clicks_android = \n",
    "\n",
    "print(\"\\n\\nFacebook IOS Transformed:\")\n",
    "display(facebook_spend_reach_clicks_ios.head())\n",
    "\n",
    "print(\"\\n\\nFacebook ANDROID Transformed:\")\n",
    "display(facebook_spend_reach_clicks_android.head())\n",
    "\n",
    "\n"
   ]
  },
  {
   "cell_type": "markdown",
   "metadata": {},
   "source": [
    "## Transform PINTEREST DataFrame"
   ]
  },
  {
   "cell_type": "markdown",
   "metadata": {},
   "source": [
    "### Now we can TRANSFORM THE DATA FRAME"
   ]
  },
  {
   "cell_type": "code",
   "execution_count": null,
   "metadata": {},
   "outputs": [],
   "source": [
    "pinterest_cols = [\"Campaign ID\", \"Campaign name\", \"Date\", \"Spend in account currency\", \n",
    "                  \"Impressions\", \"Impression Unique Users\", \"Clicks\", \"Click Unique Users\"]\n",
    "\n",
    "pinterest_transformed = pinterest_new_df[pinterest_cols].copy()\n",
    "\n",
    "# Rename the column headers\n",
    "pinterest_transformed = pinterest_transformed.rename(columns={\"Campaign ID\": \"campaign_id\",\n",
    "                                                         \"Campaign name\": \"campaign_name\",\n",
    "                                                         \"Date\": \"date\",\n",
    "                                                         \"Spend in account currency\": \"spend\",\n",
    "                                                         \"Impressions\": \"impressions\",\n",
    "                                                         \"Impression Unique Users\": \"impressions_unique\",\n",
    "                                                         \"Clicks\": \"clicks\",\n",
    "                                                         \"Click Unique Users\": \"clicks_unique\"})\n",
    "\n",
    "pinterest_transformed[\"device_type\"] = \"other\"\n",
    "pinterest_transformed.loc[pinterest_transformed['campaign_name'].str.contains('(?i)IOS'),\"device_type\"] = \"IOS\"\n",
    "pinterest_transformed.loc[pinterest_transformed['campaign_name'].str.contains('(?i)ANDROID'),\"device_type\"] = \"ANDROID\"\n",
    "\n",
    "\n",
    "pinterest_transformed[\"advertiser\"] = \"pinterest_int\"\n",
    "pinterest_transformed[\"campaign_type\"] = type_other_string\n",
    "\n",
    "\n",
    "pinterest_spend_reach_by_device_type = pinterest_transformed.groupby([\"date\",\"device_type\", \"advertiser\", \"campaign_type\"],as_index=False).sum()\n",
    "\n",
    "pinterest_spend_reach_by_device_type_final = pinterest_spend_reach_by_device_type.loc[pinterest_spend_reach_by_device_type[\"device_type\"] != \"other\", :]\n",
    "\n",
    "# pinterest_spend_reach_by_device_type_final.head(10)\n",
    "\n",
    "# Split out IOS and ANDROID into separate dataframes\n",
    "pinterest_spend_reach_clicks_ios = pinterest_spend_reach_by_device_type_final.loc[pinterest_spend_reach_by_device_type_final[\"device_type\"] == \"IOS\",:]\n",
    "pinterest_spend_reach_clicks_android = pinterest_spend_reach_by_device_type_final.loc[pinterest_spend_reach_by_device_type_final[\"device_type\"] == \"ANDROID\",:]\n",
    "\n",
    "\n",
    "print(\"\\n\\nPinterest IOS Transformed:\")\n",
    "display(pinterest_spend_reach_clicks_ios.tail())\n",
    "\n",
    "print(\"\\n\\nPinterest ANDROID Transformed:\")\n",
    "display(pinterest_spend_reach_clicks_android.tail())"
   ]
  },
  {
   "cell_type": "markdown",
   "metadata": {},
   "source": [
    "### Transform GOOGLE ADS DataFrame"
   ]
  },
  {
   "cell_type": "code",
   "execution_count": null,
   "metadata": {},
   "outputs": [],
   "source": [
    "# Create a filtered dataframe from specific columns\n",
    "google_cols = [\"Day\", \"Campaign\", \"Cost\", \n",
    "                 \"Impressions\", \"Views\", \"Clicks\"]\n",
    "\n",
    "google_transformed = google_df[google_cols].copy()\n",
    "\n",
    "# Rename the column headers\n",
    "google_transformed = google_transformed.rename(columns={\"Day\": \"date\",\n",
    "                                                            \"Campaign\": \"campaign_name\",\n",
    "                                                            \"Cost\": \"spend\",\n",
    "                                                            \"Impressions\": \"impressions\",                                                     \n",
    "                                                            \"Views\": \"views\",\n",
    "                                                            \"Clicks\": \"clicks\"})\n",
    "\n",
    "\n",
    "google_transformed[\"impressions\"] = google_transformed[\"impressions\"].str.replace(\",\",\"\").astype(int)\n",
    "google_transformed[\"views\"] = google_transformed[\"views\"].str.replace(\",\",\"\").astype(int)\n",
    "google_transformed[\"clicks\"] = google_transformed[\"clicks\"].str.replace(\",\",\"\").astype(int)\n",
    "\n",
    "# add the Device Type, AppsFlyer advertiser name \n",
    "google_transformed[\"device_type\"] = \"IOS\"\n",
    "google_transformed[\"advertiser\"] = \"googleadwords_int\"\n",
    "google_transformed[\"campaign_type\"] = type_other_string\n",
    "\n",
    "\n",
    "google_spend_reach_by_device_type = google_transformed.groupby([\"date\",\"device_type\", \"advertiser\", \"campaign_type\"],as_index=False).sum()\n",
    "\n",
    "google_spend_reach_by_device_type_final = google_spend_reach_by_device_type.loc[google_spend_reach_by_device_type[\"device_type\"] != \"other\", :]\n",
    "\n",
    "\n",
    "# Split out IOS and ANDROID into separate dataframes\n",
    "google_spend_reach_clicks_ios = google_spend_reach_by_device_type_final.loc[google_spend_reach_by_device_type_final[\"device_type\"] == \"IOS\",:]\n",
    "google_spend_reach_clicks_android = google_spend_reach_by_device_type_final.loc[google_spend_reach_by_device_type_final[\"device_type\"] == \"ANDROID\",:]\n",
    "\n",
    "\n",
    "print(\"\\n\\nGoogle Ads IOS Transformed:\")\n",
    "display(google_spend_reach_clicks_ios.head())\n",
    "\n",
    "print(\"\\n\\nGoogle Ads ANDROID Transformed:\")\n",
    "display(google_spend_reach_clicks_android.tail())\n",
    "\n",
    "\n"
   ]
  },
  {
   "cell_type": "code",
   "execution_count": null,
   "metadata": {},
   "outputs": [],
   "source": [
    "# google_transformed[\"impressions\"] = google_transformed[\"impressions\"].str.replace(\",\",\"\").astype(int)\n",
    "# google_transformed[\"views\"] = google_transformed[\"views\"].str.replace(\",\",\"\").astype(int)\n",
    "# google_transformed[\"clicks\"] = google_transformed[\"clicks\"].str.replace(\",\",\"\").astype(int)\n",
    "# # google_transformed[[\"impressions\", \"views\"]] = google_transformed[[\"impressions\", \"views\"]].apply(pd.to_numeric)\n",
    "\n",
    "\n",
    "# google_transformed.head()"
   ]
  },
  {
   "cell_type": "markdown",
   "metadata": {},
   "source": [
    "# APPSFLYER DATA PREPARATION"
   ]
  },
  {
   "cell_type": "markdown",
   "metadata": {},
   "source": [
    "### Extract APPSFLYER CSVs into DataFrames"
   ]
  },
  {
   "cell_type": "code",
   "execution_count": null,
   "metadata": {},
   "outputs": [],
   "source": [
    "appsflyer_ios_file = folder_with_csvs + \"/APPSFLYER-IOS.csv\"\n",
    "appsflyer_ios_df = pd.read_csv(appsflyer_ios_file)\n",
    "\n",
    "print(\"\\n\\nAppsFlyer iOS import:\")\n",
    "display(appsflyer_ios_df.head())"
   ]
  },
  {
   "cell_type": "code",
   "execution_count": null,
   "metadata": {},
   "outputs": [],
   "source": [
    "appsflyer_android_file = folder_with_csvs + \"/APPSFLYER-ANDROID.csv\"\n",
    "appsflyer_android_df = pd.read_csv(appsflyer_android_file)\n",
    "\n",
    "print(\"\\n\\nAppsFlyer ANDROID import:\")\n",
    "display(appsflyer_android_df.head())"
   ]
  },
  {
   "cell_type": "markdown",
   "metadata": {},
   "source": [
    "### SETUP VARIABLES TO USE FOR APPSFLYER IOS/ANDROID DataFrame Transformations"
   ]
  },
  {
   "cell_type": "code",
   "execution_count": null,
   "metadata": {},
   "outputs": [],
   "source": [
    "paid_acquisition_advertisers = [facebook_advertiser_string, \"pinterest_int\", \"googleadwords_int\", asa_advertiser_string, \"Organic\"]\n",
    "\n",
    "\n",
    "appsflyer_cols = [\"Date\", \"Media Source (pid)\", \"Campaign (c)\", \"Installs\", \"Sessions\", \n",
    "                      \"new_workout_saved (Unique users)\", \n",
    "                      \"af_purchase (Unique users)\",\n",
    "                      \"af_purchase (Event counter)\", \n",
    "                      \"af_start_trial (Unique users)\", \n",
    "                      \"af_start_trial (Event counter)\",\n",
    "                      most_recent_ltv_column_prefix + \" (Unique users)\",\n",
    "                      most_recent_ltv_column_prefix + \" (Event counter)\",\n",
    "                      most_recent_ltv_column_prefix + \" (Sales in USD)\"]"
   ]
  },
  {
   "cell_type": "markdown",
   "metadata": {},
   "source": [
    "### Transform APPSFLYER IOS DataFrame"
   ]
  },
  {
   "cell_type": "code",
   "execution_count": null,
   "metadata": {},
   "outputs": [],
   "source": [
    "appsflyer_ios_transformed = appsflyer_ios_df[appsflyer_cols].copy()\n",
    "\n",
    "# Rename the column headers\n",
    "appsflyer_ios_transformed = appsflyer_ios_transformed.rename(columns={\"Date\": \"date\",\n",
    "                                                         \"Media Source (pid)\": \"advertiser\",\n",
    "                                                         \"Campaign (c)\": \"campaign_name\",\n",
    "                                                         \"Installs\": \"installs\",\n",
    "                                                         \"Sessions\": \"sessions\",\n",
    "                                                         \"new_workout_saved (Unique users)\": \"new_workout_saved_unique\",\n",
    "                                                         \"af_purchase (Unique users)\": \"af_purchase_unique\",\n",
    "                                                         \"af_purchase (Event counter)\": \"af_purchase_all\",\n",
    "                                                         \"af_start_trial (Unique users)\": \"af_start_trial_unique\",\n",
    "                                                         \"af_start_trial (Event counter)\": \"af_start_trial_all\",\n",
    "                                                         most_recent_ltv_column_prefix + \" (Unique users)\": \"ltv_subs_unique\",\n",
    "                                                         most_recent_ltv_column_prefix + \" (Event counter)\": \"ltv_subs_all\",\n",
    "                                                         most_recent_ltv_column_prefix + \" (Sales in USD)\": \"ltv_subs_revenue\"})\n",
    "\n",
    "\n",
    "appsflyer_ios_transformed.insert(2, \"campaign_type\", type_other_string) \n",
    "\n",
    "appsflyer_ios_transformed.loc[(appsflyer_ios_transformed['advertiser'] == facebook_advertiser_string)\n",
    "                              &\n",
    "                              (appsflyer_ios_transformed['campaign_name'].str.contains('(?i)Evergreen')), \"campaign_type\"] = type_evergreen_string\n",
    "\n",
    "\n",
    "\n",
    "appsflyer_ios_transformed.loc[appsflyer_ios_transformed['advertiser'] == asa_advertiser_string, \"campaign_type\"] = type_advanced_string\n",
    "\n",
    "appsflyer_ios_transformed.loc[(appsflyer_ios_transformed['advertiser'] == asa_advertiser_string)\n",
    "                              &\n",
    "                              (appsflyer_ios_transformed['campaign_name'].str.contains('Basic')), \"campaign_type\"] = type_basic_string\n",
    "\n",
    "\n",
    "\n",
    "appsflyer_ios_transformed.insert(11, \"trial_starts_unique\", appsflyer_ios_transformed[\"af_purchase_unique\"] + appsflyer_ios_transformed[\"af_start_trial_unique\"]) \n",
    "appsflyer_ios_transformed.insert(12, \"trial_starts_all\", appsflyer_ios_transformed[\"af_purchase_all\"] + appsflyer_ios_transformed[\"af_start_trial_all\"]) \n",
    "\n",
    "appsflyer_ios_grouped = appsflyer_ios_transformed.groupby([\"date\",\"advertiser\", \"campaign_type\"],as_index=False).sum()\n",
    "\n",
    "appsflyer_ios_grouped_final = appsflyer_ios_grouped.loc[appsflyer_ios_grouped[\"advertiser\"].isin(paid_acquisition_advertisers), :]\n",
    "\n",
    "print(\"\\n\\nAppsFlyer IOS Transformed:\")\n",
    "appsflyer_ios_grouped_final.head()\n",
    "\n"
   ]
  },
  {
   "cell_type": "markdown",
   "metadata": {},
   "source": []
  },
  {
   "cell_type": "markdown",
   "metadata": {},
   "source": [
    "### Transform APPSFLYER ANDROID DataFrame"
   ]
  },
  {
   "cell_type": "code",
   "execution_count": null,
   "metadata": {},
   "outputs": [],
   "source": [
    "appsflyer_android_transformed = appsflyer_android_df[appsflyer_cols].copy()\n",
    "\n",
    "# Rename the column headers\n",
    "appsflyer_android_transformed = appsflyer_android_transformed.rename(columns={\"Date\": \"date\",\n",
    "                                                         \"Media Source (pid)\": \"advertiser\",\n",
    "                                                         \"Campaign (c)\": \"campaign_name\",\n",
    "                                                         \"Installs\": \"installs\",\n",
    "                                                         \"Sessions\": \"sessions\",\n",
    "                                                         \"new_workout_saved (Unique users)\": \"new_workout_saved_unique\",\n",
    "                                                         \"af_purchase (Unique users)\": \"af_purchase_unique\",\n",
    "                                                         \"af_purchase (Event counter)\": \"af_purchase_all\",\n",
    "                                                         \"af_start_trial (Unique users)\": \"af_start_trial_unique\",\n",
    "                                                         \"af_start_trial (Event counter)\": \"af_start_trial_all\",\n",
    "                                                         most_recent_ltv_column_prefix + \" (Unique users)\": \"ltv_subs_unique\",\n",
    "                                                         most_recent_ltv_column_prefix + \" (Event counter)\": \"ltv_subs_all\",\n",
    "                                                         most_recent_ltv_column_prefix + \" (Sales in USD)\": \"ltv_subs_revenue\"})\n",
    "\n",
    "\n",
    "appsflyer_android_transformed.insert(2, \"campaign_type\", type_other_string) \n",
    "\n",
    "\n",
    "appsflyer_android_transformed.loc[(appsflyer_android_transformed['advertiser'] == facebook_advertiser_string)\n",
    "                              &\n",
    "                              (appsflyer_android_transformed['campaign_name'].str.contains('(?i)Evergreen')), \"campaign_type\"] = type_evergreen_string\n",
    "\n",
    "\n",
    "appsflyer_android_transformed.insert(11, \"trial_starts_unique\", appsflyer_android_transformed[\"af_purchase_unique\"] + appsflyer_android_transformed[\"af_start_trial_unique\"]) \n",
    "appsflyer_android_transformed.insert(12, \"trial_starts_all\", appsflyer_android_transformed[\"af_purchase_all\"] + appsflyer_android_transformed[\"af_start_trial_all\"]) \n",
    "\n",
    "appsflyer_android_grouped = appsflyer_android_transformed.groupby([\"date\",\"advertiser\", \"campaign_type\"],as_index=False).sum()\n",
    "\n",
    "appsflyer_android_grouped_final = appsflyer_android_grouped.loc[appsflyer_android_grouped[\"advertiser\"].isin(paid_acquisition_advertisers), :]\n",
    "\n",
    "print(\"\\n\\nAppsFlyer ANDROID Transformed:\")\n",
    "appsflyer_android_grouped_final.head()\n"
   ]
  },
  {
   "cell_type": "markdown",
   "metadata": {},
   "source": [
    "## CREATE PLACEHOLDER DFs"
   ]
  },
  {
   "cell_type": "markdown",
   "metadata": {},
   "source": [
    "### Create Placeholders for ASA (Basic and Advanced) and ORGANIC DataFrames with Spend, Impressions, Clicks, etc."
   ]
  },
  {
   "cell_type": "code",
   "execution_count": null,
   "metadata": {},
   "outputs": [],
   "source": [
    "appsflyer_ios_asa_transformed = appsflyer_ios_df.loc[(appsflyer_ios_df[\"Media Source (pid)\"] == asa_advertiser_string)\n",
    "                                                     , [\"Date\", \"Media Source (pid)\", \"Campaign (c)\", \"Total Cost\"]].copy()\n",
    "\n",
    "\n",
    "# Rename the column headers\n",
    "appsflyer_ios_asa_transformed = appsflyer_ios_asa_transformed.rename(columns={\"Date\": \"date\",\n",
    "                                                         \"Media Source (pid)\": \"advertiser\",\n",
    "                                                         \"Campaign (c)\": \"campaign_name\",\n",
    "                                                         \"Total Cost\": \"spend\"})\n",
    "\n",
    "\n",
    "appsflyer_ios_asa_transformed.insert(2, \"campaign_type\", type_advanced_string) \n",
    "\n",
    "appsflyer_ios_asa_transformed.loc[appsflyer_ios_asa_transformed['campaign_name']\\\n",
    "                                  .str.contains('Basic'), \"campaign_type\"] = type_basic_string\n",
    "\n",
    "\n",
    "asa_spend_reach_clicks_ios = appsflyer_ios_asa_transformed.groupby([\"date\",\"advertiser\", \"campaign_type\"],as_index=False).sum()\n",
    "\n",
    "asa_spend_reach_clicks_ios.insert(3, \"device_type\", \"IOS\")\n",
    "\n",
    "print(\"\\n\\nASA IOS Blank Starter DF:\")\n",
    "display(asa_spend_reach_clicks_ios.head())"
   ]
  },
  {
   "cell_type": "code",
   "execution_count": null,
   "metadata": {
    "scrolled": false
   },
   "outputs": [],
   "source": [
    "# ORGANIC IOS\n",
    "organic_spend_reach_clicks_ios = appsflyer_ios_grouped_final.loc[appsflyer_ios_grouped_final['advertiser'] == \"Organic\", [\"date\", \"advertiser\", \"campaign_type\"]]\n",
    "organic_spend_reach_clicks_ios[\"device_type\"] = \"IOS\"\n",
    "\n",
    "print(\"\\n\\nOrganic IOS Blank Starter DF:\")\n",
    "display(organic_spend_reach_clicks_ios.head())\n",
    "\n",
    "\n",
    "# ORGANIC ANDROID\n",
    "organic_spend_reach_clicks_android = appsflyer_android_grouped_final.loc[appsflyer_android_grouped_final['advertiser'] == \"Organic\", [\"date\", \"advertiser\", \"campaign_type\"]]\n",
    "organic_spend_reach_clicks_android[\"device_type\"] = \"ANDROID\"\n",
    "\n",
    "print(\"\\n\\nOrganic ANDROID Blank Starter DF:\")\n",
    "display(organic_spend_reach_clicks_android.head())\n"
   ]
  },
  {
   "cell_type": "markdown",
   "metadata": {},
   "source": [
    "# COMBINE APPSFLYER AND ADVERTISER DATA TOGETHER\n",
    "## We will do this same thing later with SQL queries once each table is separately created in the database"
   ]
  },
  {
   "cell_type": "markdown",
   "metadata": {},
   "source": [
    "### IOS Combination"
   ]
  },
  {
   "cell_type": "code",
   "execution_count": null,
   "metadata": {},
   "outputs": [],
   "source": [
    "advertisers_spend_reach_clicks_ios = pd.concat([facebook_spend_reach_clicks_ios, \n",
    "                                                pinterest_spend_reach_clicks_ios, \n",
    "                                                google_spend_reach_clicks_ios,\n",
    "                                                asa_spend_reach_clicks_ios,\n",
    "                                                organic_spend_reach_clicks_ios      ], \n",
    "                                               ignore_index=True, sort=False).sort_values(by=['date'])\n",
    "\n",
    "merge_table_ios = pd.merge(advertisers_spend_reach_clicks_ios, appsflyer_ios_grouped_final, on=[\"date\",\"advertiser\", \"campaign_type\"], how=\"left\")\n",
    "\n",
    "print(\"\\n\\nCombined IOS DATA (Advertisers + AppsFlyer):\")\n",
    "display(merge_table_ios)\n",
    "\n",
    "# Save to CSV\n",
    "merge_table_ios.to_csv(folder_output_csvs + \"/merged_IOS_data.csv\", index=False, header=True)\n",
    "\n",
    "\n"
   ]
  },
  {
   "cell_type": "markdown",
   "metadata": {},
   "source": [
    "### ANDROID Combination"
   ]
  },
  {
   "cell_type": "code",
   "execution_count": null,
   "metadata": {},
   "outputs": [],
   "source": [
    "# facebook_spend_reach_clicks_android.head()\n",
    "# pinterest_spend_reach_clicks_android.head()\n",
    "# appsflyer_android_grouped_final.head()\n",
    "\n",
    "\n",
    "advertisers_spend_reach_clicks_android = pd.concat([facebook_spend_reach_clicks_android, \n",
    "                                                    pinterest_spend_reach_clicks_android, \n",
    "                                                    organic_spend_reach_clicks_android], \n",
    "                                                   ignore_index=True, sort=False).sort_values(by=['date'])\n",
    "\n",
    "merge_table_android = pd.merge(advertisers_spend_reach_clicks_android, appsflyer_android_grouped_final, on=[\"date\",\"advertiser\", \"campaign_type\"], how=\"left\")\n",
    "\n",
    "merge_table_android.insert(9, \"views\", np.nan)\n",
    "\n",
    "print(\"\\n\\nCombined ANDROID DATA (Advertisers + AppsFlyer):\")\n",
    "display(merge_table_android.head())\n",
    "\n",
    "# Save to CSV\n",
    "merge_table_android.to_csv(folder_output_csvs + \"/merged_ANDROID_data.csv\", index=False, header=True)\n",
    "\n"
   ]
  },
  {
   "cell_type": "code",
   "execution_count": null,
   "metadata": {},
   "outputs": [],
   "source": []
  },
  {
   "cell_type": "code",
   "execution_count": null,
   "metadata": {},
   "outputs": [],
   "source": []
  },
  {
   "cell_type": "markdown",
   "metadata": {},
   "source": [
    "# CREATE AARRR DASHBOARD showing AGGREGATE DATA OVER DATE RANGE"
   ]
  },
  {
   "cell_type": "code",
   "execution_count": null,
   "metadata": {},
   "outputs": [],
   "source": [
    "### Date Range\n",
    "# first_date = \"2019-05-02\"\n",
    "# last_date = \"2019-05-08\"\n",
    "\n",
    "trial_starts_column_to_use = \"trial_starts_unique\"\n",
    "# trial_starts_column_to_use = \"trial_starts_all\"\n",
    "\n",
    "columns_to_keep = [\"date\", \"device_type\", \"advertiser\", \"campaign_type\", \"spend\", \"installs\", trial_starts_column_to_use]\n"
   ]
  },
  {
   "cell_type": "markdown",
   "metadata": {},
   "source": [
    "### IOS Aggregate Data\n",
    "#### D0 and W0"
   ]
  },
  {
   "cell_type": "code",
   "execution_count": null,
   "metadata": {},
   "outputs": [],
   "source": [
    "# D0 stats\n",
    "ios_aarrr_d0 = merge_table_ios.loc[(merge_table_ios[\"date\"] >= last_date) \n",
    "                                        & \n",
    "                                        (merge_table_ios[\"date\"] <= last_date), columns_to_keep]\\\n",
    "                                        .groupby([\"advertiser\", \"campaign_type\"],as_index=False).sum()\n",
    "\n",
    "ios_aarrr_d0.insert(4, \"cpi\", ios_aarrr_d0[\"spend\"] / ios_aarrr_d0[\"installs\"])\n",
    "ios_aarrr_d0[\"cpt\"] = ios_aarrr_d0[\"spend\"] / ios_aarrr_d0[trial_starts_column_to_use]\n",
    "\n",
    "print(\"iOS D0 Stats:\")\n",
    "display(ios_aarrr_d0.head(10))\n",
    "\n",
    "ios_aarrr_d0.to_csv(folder_output_csvs + \"/ios_D0_aarrr_\" + last_date + \".csv\", index=False, header=True)\n",
    "\n",
    "\n",
    "# W0 stats\n",
    "ios_aarrr_w0 = merge_table_ios.loc[(merge_table_ios[\"date\"] >= first_date) \n",
    "                                        & \n",
    "                                        (merge_table_ios[\"date\"] <= last_date), columns_to_keep]\\\n",
    "                                        .groupby([\"advertiser\", \"campaign_type\"],as_index=False).sum()\n",
    "\n",
    "ios_aarrr_w0.insert(4, \"cpi\", ios_aarrr_w0[\"spend\"] / ios_aarrr_w0[\"installs\"])\n",
    "ios_aarrr_w0[\"cpt\"] = ios_aarrr_w0[\"spend\"] / ios_aarrr_w0[trial_starts_column_to_use]\n",
    "\n",
    "print(\"\\n\\niOS W0 Stats:\")\n",
    "display(ios_aarrr_w0.head(10))\n",
    "\n",
    "ios_aarrr_w0.to_csv(folder_output_csvs + \"/ios_W0_aarrr_\" + first_date + \"_to_\" + last_date + \".csv\", index=False, header=True)\n",
    "\n"
   ]
  },
  {
   "cell_type": "code",
   "execution_count": null,
   "metadata": {},
   "outputs": [],
   "source": [
    "# Need to make it so I don't have to change the date range to export a second CSV\n",
    "# need to add calculations for CPI and CPT"
   ]
  },
  {
   "cell_type": "markdown",
   "metadata": {},
   "source": [
    "### Android Aggregate Data"
   ]
  },
  {
   "cell_type": "code",
   "execution_count": null,
   "metadata": {},
   "outputs": [],
   "source": [
    "# D0 stats\n",
    "android_aarrr_d0 = merge_table_android.loc[(merge_table_android[\"date\"] >= last_date) \n",
    "                                        & \n",
    "                                        (merge_table_android[\"date\"] <= last_date), columns_to_keep]\\\n",
    "                                        .groupby([\"advertiser\", \"campaign_type\"],as_index=False).sum()\n",
    "\n",
    "android_aarrr_d0.insert(4, \"cpi\", android_aarrr_d0[\"spend\"] / android_aarrr_d0[\"installs\"])\n",
    "android_aarrr_d0[\"cpt\"] = android_aarrr_d0[\"spend\"] / android_aarrr_d0[trial_starts_column_to_use]\n",
    "\n",
    "\n",
    "print(\"Android D0 Stats:\")\n",
    "display(android_aarrr_d0.head(10))\n",
    "\n",
    "android_aarrr_d0.to_csv(folder_output_csvs + \"/android_D0_aarrr_\" + last_date + \".csv\", index=False, header=True)\n",
    "\n",
    "\n",
    "# W0 stats\n",
    "android_aarrr_w0 = merge_table_android.loc[(merge_table_android[\"date\"] >= first_date) \n",
    "                                        & \n",
    "                                        (merge_table_android[\"date\"] <= last_date), columns_to_keep]\\\n",
    "                                        .groupby([\"advertiser\", \"campaign_type\"],as_index=False).sum()\n",
    "\n",
    "\n",
    "android_aarrr_w0.insert(4, \"cpi\", android_aarrr_w0[\"spend\"] / android_aarrr_w0[\"installs\"])\n",
    "android_aarrr_w0[\"cpt\"] = android_aarrr_w0[\"spend\"] / android_aarrr_w0[trial_starts_column_to_use]\n",
    "\n",
    "\n",
    "print(\"\\n\\nAndroid W0 Stats:\")\n",
    "display(android_aarrr_w0.head(10))\n",
    "\n",
    "android_aarrr_w0.to_csv(folder_output_csvs + \"/android_W0_aarrr_\" + first_date + \"_to_\" + last_date + \".csv\", index=False, header=True)\n"
   ]
  },
  {
   "cell_type": "code",
   "execution_count": null,
   "metadata": {},
   "outputs": [],
   "source": []
  },
  {
   "cell_type": "markdown",
   "metadata": {},
   "source": [
    "# ADD TO DATABASE"
   ]
  },
  {
   "cell_type": "markdown",
   "metadata": {},
   "source": [
    "### First set up the database by running the \"schema.sql\" file in MySQL Workbench"
   ]
  },
  {
   "cell_type": "markdown",
   "metadata": {},
   "source": [
    "### Now connect to that local database"
   ]
  },
  {
   "cell_type": "code",
   "execution_count": null,
   "metadata": {},
   "outputs": [],
   "source": [
    "# Make sure to put your own SQL root password here\n",
    "mysql_root_password = \"enter_your_mysql_root_password_here\"\n",
    "\n",
    "rds_connection_string = \"root:\" + mysql_root_password + \"@127.0.0.1/acquisition_bi_db\"\n",
    "engine = create_engine(f'mysql://{rds_connection_string}')"
   ]
  },
  {
   "cell_type": "code",
   "execution_count": null,
   "metadata": {},
   "outputs": [],
   "source": [
    "# Confirm tables\n",
    "engine.table_names()"
   ]
  },
  {
   "cell_type": "markdown",
   "metadata": {},
   "source": [
    "### Load DataFrames into database"
   ]
  },
  {
   "cell_type": "code",
   "execution_count": null,
   "metadata": {},
   "outputs": [],
   "source": [
    "# advertisers_spend_reach_clicks_ios\n",
    "# advertisers_spend_reach_clicks_android\n",
    "# appsflyer_ios_grouped_final\n",
    "# appsflyer_android_grouped_final\n",
    "\n",
    "\n",
    "advertisers_spend_reach_clicks_ios.to_sql(name='advertisers_ios', con=engine, if_exists='append', index=False)\n",
    "\n"
   ]
  },
  {
   "cell_type": "code",
   "execution_count": null,
   "metadata": {},
   "outputs": [],
   "source": [
    "advertisers_spend_reach_clicks_android.to_sql(name='advertisers_android', con=engine, if_exists='append', index=False)"
   ]
  },
  {
   "cell_type": "code",
   "execution_count": null,
   "metadata": {},
   "outputs": [],
   "source": [
    "appsflyer_ios_grouped_final.to_sql(name='appsflyer_ios', con=engine, if_exists='append', index=False)"
   ]
  },
  {
   "cell_type": "code",
   "execution_count": null,
   "metadata": {},
   "outputs": [],
   "source": [
    "appsflyer_android_grouped_final.to_sql(name='appsflyer_android', con=engine, if_exists='append', index=False)"
   ]
  },
  {
   "cell_type": "markdown",
   "metadata": {},
   "source": [
    "### Confirm data has been added by querying the customer_location table"
   ]
  },
  {
   "cell_type": "code",
   "execution_count": null,
   "metadata": {},
   "outputs": [],
   "source": [
    "print(\"\\n\\nAdvertisers IOS:\")\n",
    "display(pd.read_sql_query('select * from advertisers_ios', con=engine).head())\n",
    "\n",
    "print(\"\\n\\nAdvertisers ANDROID:\")\n",
    "display(pd.read_sql_query('select * from advertisers_android', con=engine).head())\n",
    "\n",
    "print(\"\\n\\nAppsFlyer IOS:\")\n",
    "display(pd.read_sql_query('select * from appsflyer_ios', con=engine).head())\n",
    "\n",
    "print(\"\\n\\nAppsFlyer ANDROID:\")\n",
    "display(pd.read_sql_query('select * from appsflyer_android', con=engine).head())"
   ]
  },
  {
   "cell_type": "markdown",
   "metadata": {},
   "source": [
    "## Go a step further and join the tables for the advertisers and appsflyer data from each platform together\n",
    "\n",
    "#### These Queries are also available in the \"query.sql\" file so you can run them in MySQL Workbench"
   ]
  },
  {
   "cell_type": "code",
   "execution_count": 1,
   "metadata": {},
   "outputs": [
    {
     "name": "stdout",
     "output_type": "stream",
     "text": [
      "\n",
      "\n",
      "AppsFlyer IOS:\n"
     ]
    },
    {
     "ename": "NameError",
     "evalue": "name 'pd' is not defined",
     "output_type": "error",
     "traceback": [
      "\u001b[0;31m---------------------------------------------------------------------------\u001b[0m",
      "\u001b[0;31mNameError\u001b[0m                                 Traceback (most recent call last)",
      "\u001b[0;32m<ipython-input-1-54e3ffde3c71>\u001b[0m in \u001b[0;36m<module>\u001b[0;34m()\u001b[0m\n\u001b[1;32m      1\u001b[0m \u001b[0mprint\u001b[0m\u001b[0;34m(\u001b[0m\u001b[0;34m\"\\n\\nAppsFlyer IOS:\"\u001b[0m\u001b[0;34m)\u001b[0m\u001b[0;34m\u001b[0m\u001b[0;34m\u001b[0m\u001b[0m\n\u001b[0;32m----> 2\u001b[0;31m display(pd.read_sql_query(\"\"\"SELECT ads.*,\n\u001b[0m\u001b[1;32m      3\u001b[0m                           \u001b[0maps\u001b[0m\u001b[0;34m.\u001b[0m\u001b[0minstalls\u001b[0m\u001b[0;34m,\u001b[0m\u001b[0;34m\u001b[0m\u001b[0;34m\u001b[0m\u001b[0m\n\u001b[1;32m      4\u001b[0m                           \u001b[0maps\u001b[0m\u001b[0;34m.\u001b[0m\u001b[0msessions\u001b[0m\u001b[0;34m,\u001b[0m\u001b[0;34m\u001b[0m\u001b[0;34m\u001b[0m\u001b[0m\n\u001b[1;32m      5\u001b[0m                           \u001b[0maps\u001b[0m\u001b[0;34m.\u001b[0m\u001b[0mnew_workout_saved_unique\u001b[0m\u001b[0;34m,\u001b[0m\u001b[0;34m\u001b[0m\u001b[0;34m\u001b[0m\u001b[0m\n",
      "\u001b[0;31mNameError\u001b[0m: name 'pd' is not defined"
     ]
    }
   ],
   "source": [
    "print(\"\\n\\nAppsFlyer IOS:\")\n",
    "display(pd.read_sql_query(\"\"\"SELECT ads.*,\n",
    "                          aps.installs,\n",
    "                          aps.sessions,\n",
    "                          aps.new_workout_saved_unique,\n",
    "                          aps.af_purchase_unique,\n",
    "                          aps.af_purchase_all,\n",
    "                          aps.af_start_trial_unique,\n",
    "                          aps.af_start_trial_all,\n",
    "                          aps.trial_starts_unique,\n",
    "                          aps.trial_starts_all,\n",
    "                          aps.ltv_subs_unique,\n",
    "                          aps.ltv_subs_all,\n",
    "                          aps.ltv_subs_revenue\n",
    "                          FROM advertisers_ios ads\n",
    "                          JOIN appsflyer_ios aps\n",
    "                          ON (ads.date = aps.date) AND (ads.advertiser = aps.advertiser) AND (ads.campaign_type = aps.campaign_type)\"\"\", con=engine).head())"
   ]
  },
  {
   "cell_type": "code",
   "execution_count": null,
   "metadata": {},
   "outputs": [],
   "source": [
    "print(\"\\n\\nAppsFlyer ANDROID:\")\n",
    "display(pd.read_sql_query(\"\"\"SELECT ads.*,\n",
    "                          aps.installs,\n",
    "                          aps.sessions,\n",
    "                          aps.new_workout_saved_unique,\n",
    "                          aps.af_purchase_unique,\n",
    "                          aps.af_purchase_all,\n",
    "                          aps.af_start_trial_unique,\n",
    "                          aps.af_start_trial_all,\n",
    "                          aps.trial_starts_unique,\n",
    "                          aps.trial_starts_all,\n",
    "                          aps.ltv_subs_unique,\n",
    "                          aps.ltv_subs_all,\n",
    "                          aps.ltv_subs_revenue\n",
    "                          FROM advertisers_android ads\n",
    "                          JOIN appsflyer_android aps\n",
    "                          ON (ads.date = aps.date) AND (ads.advertiser = aps.advertiser) AND (ads.campaign_type = aps.campaign_type)\"\"\", con=engine).head())"
   ]
  },
  {
   "cell_type": "markdown",
   "metadata": {},
   "source": [
    "## Now create a summary of acquisition performance for a specific date range\n",
    "#### Display the total Spend, Installs, and Trial Starts and calculate the cumulative CPI and CPT for each advertiser channel"
   ]
  },
  {
   "cell_type": "code",
   "execution_count": null,
   "metadata": {},
   "outputs": [],
   "source": [
    "# create a performance summary of Spend, Installs, and Trial Starts for a specific date range\n",
    "# include calculated columns for the CPI and CPT\n",
    "# first_date = \"2019-05-06\"\n",
    "# last_date = \"2019-05-12\"\n",
    "\n",
    "\n",
    "display(pd.read_sql_query(\"\"\"SELECT advertiser, campaign_type,  tot_spend, tot_installs, tot_spend/tot_installs as CPI, tot_trials, tot_spend/tot_trials as CPT\n",
    "    FROM\n",
    "    (\n",
    "\t\tSELECT ads.advertiser as advertiser, ads.campaign_type as campaign_type, sum(ads.spend) as tot_spend, sum(ads.impressions) as tot_impressions, sum(ads.clicks) as tot_clicks, \n",
    "\t\t\tsum(aps.installs) as tot_installs, \n",
    "\t\t\tsum(aps.sessions) as tot_sessions, \n",
    "\t\t\tsum(aps.new_workout_saved_unique) as tot_workouts, \n",
    "\t\t\t-- aps.af_purchase_unique,\n",
    "\t\t\t-- aps.af_purchase_all,\n",
    "\t\t\t-- aps.af_start_trial_unique,\n",
    "\t\t\t-- aps.af_start_trial_all,\n",
    "\t\t\t-- aps.trial_starts_unique,\n",
    "\t\t\tsum(aps.trial_starts_all) as tot_trials,\n",
    "\t\t\t-- aps.ltv_subs_unique,\n",
    "\t\t\tsum(aps.ltv_subs_all) as tot_subs,\n",
    "\t\t\tsum(aps.ltv_subs_revenue) as tot_revenue\n",
    "\t\tFROM advertisers_ios ads\n",
    "\t\tJOIN appsflyer_ios aps\n",
    "\t\tON (ads.date = aps.date) AND (ads.advertiser = aps.advertiser) AND (ads.campaign_type = aps.campaign_type)\n",
    "\t\tWHERE ads.date >= \"2019-05-06\" and ads.date <= \"2019-05-12\" \n",
    "\t\tGROUP BY ads.advertiser, ads.campaign_type\n",
    "    ) AS derivedTable;\"\"\", con=engine))"
   ]
  },
  {
   "cell_type": "code",
   "execution_count": null,
   "metadata": {},
   "outputs": [],
   "source": [
    "# create a performance summary for each ad network and split by campaign_type\n",
    "# of Spend, Installs, and Trial Starts for a specific date range\n",
    "# include calculated columns for the CPI and CPT\n",
    "# first_date = \"2019-05-06\"\n",
    "# last_date = \"2019-05-12\"\n",
    "\n",
    "display(pd.read_sql_query(\"\"\"SELECT advertiser, tot_spend, tot_installs, tot_spend/tot_installs as CPI, tot_trials, tot_spend/tot_trials as CPT\n",
    "    FROM\n",
    "    (\n",
    "\t\tSELECT ads.advertiser as advertiser, sum(ads.spend) as tot_spend, sum(ads.impressions) as tot_impressions, sum(ads.clicks) as tot_clicks, \n",
    "\t\t\tsum(aps.installs) as tot_installs, \n",
    "\t\t\tsum(aps.sessions) as tot_sessions, \n",
    "\t\t\tsum(aps.new_workout_saved_unique) as tot_workouts, \n",
    "\t\t\t-- aps.af_purchase_unique,\n",
    "\t\t\t-- aps.af_purchase_all,\n",
    "\t\t\t-- aps.af_start_trial_unique,\n",
    "\t\t\t-- aps.af_start_trial_all,\n",
    "\t\t\t-- aps.trial_starts_unique,\n",
    "\t\t\tsum(aps.trial_starts_all) as tot_trials,\n",
    "\t\t\t-- aps.ltv_subs_unique,\n",
    "\t\t\tsum(aps.ltv_subs_all) as tot_subs,\n",
    "\t\t\tsum(aps.ltv_subs_revenue) as tot_revenue\n",
    "\t\tFROM advertisers_ios ads\n",
    "\t\tJOIN appsflyer_ios aps\n",
    "\t\tON (ads.date = aps.date) AND (ads.advertiser = aps.advertiser) AND (ads.campaign_type = aps.campaign_type)\n",
    "\t\tWHERE ads.date >= \"2019-05-06\" and ads.date <= \"2019-05-12\" \n",
    "\t\tGROUP BY ads.advertiser\n",
    "    ) AS derivedTable;\"\"\", con=engine))"
   ]
  },
  {
   "cell_type": "code",
   "execution_count": null,
   "metadata": {},
   "outputs": [],
   "source": []
  }
 ],
 "metadata": {
  "kernelspec": {
   "display_name": "Python 3",
   "language": "python",
   "name": "python3"
  },
  "language_info": {
   "codemirror_mode": {
    "name": "ipython",
    "version": 3
   },
   "file_extension": ".py",
   "mimetype": "text/x-python",
   "name": "python",
   "nbconvert_exporter": "python",
   "pygments_lexer": "ipython3",
   "version": "3.7.2"
  }
 },
 "nbformat": 4,
 "nbformat_minor": 2
}
